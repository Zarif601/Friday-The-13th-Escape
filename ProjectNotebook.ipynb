{
 "cells": [
  {
   "cell_type": "markdown",
   "metadata": {},
   "source": [
    "# Project Description"
   ]
  },
  {
   "cell_type": "markdown",
   "metadata": {},
   "source": [
    "This project is a game called \"Friday The 13th: Escape.\" The game is based in a camping ground, where the player starts off from a cabin and has to navigate his way out of the camping grounds to escape the antagonist, Jason. If the player encounters Jason, the game ends and the player loses. However, if the player can get to the exit before encountering Jason, he wins the game."
   ]
  },
  {
   "cell_type": "markdown",
   "metadata": {},
   "source": [
    "There are total 9 locations in the game where the player can move to. Among them, there are 2 locations where Jason can be encountered. Those two locations are hard-coded to be 'Park walls' and 'Western lake.' Among the 9 locations, there is only 1 'Exit' where the player has to get to, to win the game. "
   ]
  },
  {
   "cell_type": "markdown",
   "metadata": {},
   "source": [
    "To play the game, the player will be asked to put inputs. To move to different locations in the game, the player has to input 'go' followed by 'up/down/left/right' depending on which direction the player wants to move towards and then press enter. So for example, if the used wants to move to the location on the right, the input would be: 'go right'"
   ]
  },
  {
   "cell_type": "markdown",
   "metadata": {},
   "source": [
    "## Project Code"
   ]
  },
  {
   "cell_type": "code",
   "execution_count": null,
   "metadata": {},
   "outputs": [],
   "source": [
    "from my_module.functions import instructions, show_location\n",
    "\n",
    "    \n",
    "# A dictionary of all the available locations in the game    \n",
    "location = { 'Cabin': {\n",
    "                    'right' : 'Park walls',\n",
    "                    'left'  : 'Where the dead body was found',\n",
    "                    'up'    : 'Campfire'\n",
    "},\n",
    "        'Campfire' : {\n",
    "                    'right' : 'Exit',\n",
    "                    'left'  : 'Woods',\n",
    "                    'up'    : 'Central lake',\n",
    "                    'down'  : 'Cabin'\n",
    "},\n",
    "        'Central lake' : {\n",
    "                    'right' : 'Eastern lake',\n",
    "                    'left'  : 'Western lake',\n",
    "                    'down'  : 'Campfire'\n",
    "},\n",
    "        'Eastern lake': {\n",
    "                    'down'  : 'Exit',\n",
    "                    'left'  : 'Central lake'\n",
    "},\n",
    "        'Western lake': {\n",
    "                    'down'  : 'Woods',\n",
    "                    'right' : 'Central lake'\n",
    "},\n",
    "        'Woods': {\n",
    "                    'down'  : 'Where the dead body was found',\n",
    "                    'right' : 'Campfire',\n",
    "                    'up'    : 'Western lake'\n",
    "},\n",
    "        'Where the dead body was found': {\n",
    "                    'up'    : 'Woods',\n",
    "                    'right' : 'Cabin'\n",
    "},\n",
    "        'Park walls': {\n",
    "                    'up'    : 'Exit',\n",
    "                    'left'  : 'Cabin'\n",
    "}\n",
    "       }\n",
    "\n",
    "# Prints the instructions before the game begins\n",
    "instructions()\n",
    "\n",
    "# Stores the current location of the player\n",
    "player_location = 'Cabin'\n",
    "\n",
    "# Repeatedly asks the player for directions until player escapes and wins\n",
    "# or until Jason catches him and game ends\n",
    "while True:\n",
    "    \n",
    "    # shows current location of the player\n",
    "    show_location(player_location)\n",
    "    \n",
    "    movement = ''\n",
    "    \n",
    "    #Repeatedly asks for player input for the next movement action, until the game ends\n",
    "    while movement == '':\n",
    "        movement = input('=> ')\n",
    "        \n",
    "    movement = movement.lower()\n",
    "    movement = movement.split()\n",
    "    \n",
    "    # makes sure user input is appropriate to play\n",
    "    if movement[0] == 'go':\n",
    "        \n",
    "        # after the player moves to a different location, updates the info\n",
    "        if movement[1] in location[player_location]:\n",
    "            player_location = location[player_location][movement[1]]\n",
    "        \n",
    "        # warns the player if they try to access unavailable locations\n",
    "        else:\n",
    "            print(\"Can't go there. Try again!\")\n",
    "            \n",
    "    # if player reaches the exit, notifies them that they have won the game, and ends the game\n",
    "    if player_location == 'Exit':\n",
    "        show_location(player_location)\n",
    "        print(\"\\nEscape successful. You win!\")\n",
    "        break\n",
    "    \n",
    "    # if player encounters Jason, notifies that the player has lost\n",
    "    if player_location == 'Western lake' or player_location == 'Park walls':\n",
    "        show_location(player_location)\n",
    "        print(\"\\nGame over! Jason got you.\")\n",
    "        break"
   ]
  }
 ],
 "metadata": {
  "kernelspec": {
   "display_name": "Python 3",
   "language": "python",
   "name": "python3"
  },
  "language_info": {
   "codemirror_mode": {
    "name": "ipython",
    "version": 3
   },
   "file_extension": ".py",
   "mimetype": "text/x-python",
   "name": "python",
   "nbconvert_exporter": "python",
   "pygments_lexer": "ipython3",
   "version": "3.6.7"
  }
 },
 "nbformat": 4,
 "nbformat_minor": 2
}
